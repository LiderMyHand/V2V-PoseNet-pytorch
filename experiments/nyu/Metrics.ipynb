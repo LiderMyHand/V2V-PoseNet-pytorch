{
 "cells": [
  {
   "cell_type": "code",
   "execution_count": 3,
   "id": "b8c14036",
   "metadata": {},
   "outputs": [],
   "source": [
    "import scipy.io as scio\n",
    "import numpy as np"
   ]
  },
  {
   "cell_type": "code",
   "execution_count": 5,
   "id": "6128abb5",
   "metadata": {},
   "outputs": [],
   "source": [
    "keypoint_file = '/V2V-PoseNet/V2V-PoseNet-pytorch/datasets/nyu_keypoint/joint_data.mat'\n",
    "keypointsXYZ_test = scio.loadmat(keypoint_file)[\"joint_xyz\"].astype(np.float32)\n",
    "keypointsXYZ_test = keypointsXYZ_test[0]"
   ]
  },
  {
   "cell_type": "code",
   "execution_count": 6,
   "id": "f044dfc7",
   "metadata": {},
   "outputs": [
    {
     "data": {
      "text/plain": [
       "array([[[-188.8249   ,   50.629726 ,  736.41693  ],\n",
       "        [-189.3054   ,   38.55511  ,  740.8322   ],\n",
       "        [-188.0669   ,   22.618011 ,  748.617    ],\n",
       "        ...,\n",
       "        [-169.45074  ,  -43.85304  ,  765.4693   ],\n",
       "        [-152.69698  ,  -64.16042  ,  784.21234  ],\n",
       "        [-167.85281  , -117.94787  ,  796.33386  ]],\n",
       "\n",
       "       [[-188.94328  ,   50.47799  ,  736.1072   ],\n",
       "        [-189.40286  ,   38.421764 ,  740.5746   ],\n",
       "        [-188.13713  ,   22.523369 ,  748.4404   ],\n",
       "        ...,\n",
       "        [-169.44225  ,  -43.854378 ,  765.4732   ],\n",
       "        [-152.69104  ,  -64.158714 ,  784.2218   ],\n",
       "        [-167.84645  , -117.9455   ,  796.3467   ]],\n",
       "\n",
       "       [[-189.691    ,   50.589447 ,  736.9856   ],\n",
       "        [-190.05676  ,   38.4671   ,  741.2794   ],\n",
       "        [-188.66286  ,   22.46257  ,  748.8948   ],\n",
       "        ...,\n",
       "        [-169.58276  ,  -43.904537 ,  765.47504  ],\n",
       "        [-152.75009  ,  -64.20285  ,  784.1569   ],\n",
       "        [-167.8423   , -117.99233  ,  796.3487   ]],\n",
       "\n",
       "       ...,\n",
       "\n",
       "       [[  23.890114 , -300.03665  ,  948.69946  ],\n",
       "        [  16.118645 , -298.7932   ,  955.3578   ],\n",
       "        [   4.3134837, -296.1996   ,  962.7887   ],\n",
       "        ...,\n",
       "        [ -30.083769 , -269.69128  , 1000.28625  ],\n",
       "        [ -48.376503 , -252.25374  , 1009.0374   ],\n",
       "        [ -62.881348 , -248.19505  , 1053.9127   ]],\n",
       "\n",
       "       [[  23.859407 , -299.93906  ,  948.4927   ],\n",
       "        [  16.114141 , -298.71423  ,  955.18494  ],\n",
       "        [   4.3330655, -296.14484  ,  962.6655   ],\n",
       "        ...,\n",
       "        [ -30.072996 , -269.7277   , 1000.2888   ],\n",
       "        [ -48.364407 , -252.28842  , 1009.03955  ],\n",
       "        [ -62.86759  , -248.22627  , 1053.915    ]],\n",
       "\n",
       "       [[  23.838806 , -299.95874  ,  948.5465   ],\n",
       "        [  16.091394 , -298.72864  ,  955.2353   ],\n",
       "        [   4.306232 , -296.1579   ,  962.709    ],\n",
       "        ...,\n",
       "        [ -30.10178  , -269.72687  , 1000.2776   ],\n",
       "        [ -48.396378 , -252.28818  , 1009.02264  ],\n",
       "        [ -62.90376  , -248.21736  , 1053.896    ]]], dtype=float32)"
      ]
     },
     "execution_count": 6,
     "metadata": {},
     "output_type": "execute_result"
    }
   ],
   "source": [
    "keypointsXYZ_test"
   ]
  },
  {
   "cell_type": "code",
   "execution_count": 8,
   "id": "39413b21",
   "metadata": {},
   "outputs": [],
   "source": [
    "source = '/V2V-PoseNet/V2V-PoseNet-pytorch/test_res.txt'\n",
    "results = [line.split()[0:] for line in open(source, 'r').readlines()]\n",
    "arr = np.array(results).astype(np.float32)\n",
    "results1 = np.ones((8252, 21, 3))\n",
    "for i in range(0,8252):\n",
    "    results1[i] = arr[i].reshape([-1, 3])\n"
   ]
  },
  {
   "cell_type": "code",
   "execution_count": 9,
   "id": "0d1dfd62",
   "metadata": {},
   "outputs": [],
   "source": [
    "MSRA_correspond_joints = {\"wrist\": 0, \"index_mcp\":1, \"index_pip\":2, \"index_dip\":3,\n",
    "                          \"index_tip\":4, \"middle_mcp\":5, \"middle_pip\":6, \"middle_dip\":7,\n",
    "                          \"middle_tip\":8, \"ring_mcp\":9, \"ring_pip\":10, \"ring_dip\":11,\n",
    "                          \"ring_tip\":12, \"little_mcp\":13, \"little_pip\":14, \"little_dip\":15,\n",
    "                          \"little_tip\":16, \"thumb_mcp\":17, \"thumb_pip\":18, \"thumb_dip\":19, \"thumb_tip\":20}"
   ]
  },
  {
   "cell_type": "markdown",
   "id": "e8ea9c40",
   "metadata": {},
   "source": [
    "# Tip"
   ]
  },
  {
   "cell_type": "code",
   "execution_count": 15,
   "id": "ee455744",
   "metadata": {},
   "outputs": [
    {
     "name": "stdout",
     "output_type": "stream",
     "text": [
      "57.92690763482444\n"
     ]
    }
   ],
   "source": [
    "#PTIP\n",
    "EVAL_PTIP = np.array([0])\n",
    "pred_PTIP = np.array([16])\n",
    "errors_PTIP = np.sqrt(np.sum((keypointsXYZ_test[::][:,EVAL_PTIP,:] - results1[::][:,pred_PTIP,:]) ** 2, axis=2))\n",
    "print(np.mean(errors_PTIP))"
   ]
  },
  {
   "cell_type": "code",
   "execution_count": 16,
   "id": "f412b4d8",
   "metadata": {},
   "outputs": [
    {
     "name": "stdout",
     "output_type": "stream",
     "text": [
      "51.05599466133986\n"
     ]
    }
   ],
   "source": [
    "#RTIP\n",
    "EVAL_RTIP = np.array([6])\n",
    "pred_RTIP = np.array([12])\n",
    "errors_RTIP = np.sqrt(np.sum((keypointsXYZ_test[::][:,EVAL_RTIP,:] - results1[::][:,pred_RTIP,:]) ** 2, axis=2))\n",
    "print(np.mean(errors_RTIP))"
   ]
  },
  {
   "cell_type": "code",
   "execution_count": 17,
   "id": "07f9acdb",
   "metadata": {},
   "outputs": [
    {
     "name": "stdout",
     "output_type": "stream",
     "text": [
      "51.2406277184179\n"
     ]
    }
   ],
   "source": [
    "#MTIP\n",
    "EVAL_MTIP = np.array([12])\n",
    "pred_MTIP = np.array([8])\n",
    "errors_MTIP = np.sqrt(np.sum((keypointsXYZ_test[::][:,EVAL_MTIP,:] - results1[::][:,pred_MTIP,:]) ** 2, axis=2))\n",
    "print(np.mean(errors_MTIP))"
   ]
  },
  {
   "cell_type": "code",
   "execution_count": 18,
   "id": "695ef226",
   "metadata": {},
   "outputs": [
    {
     "name": "stdout",
     "output_type": "stream",
     "text": [
      "53.27109378730522\n"
     ]
    }
   ],
   "source": [
    "#ITIP\n",
    "EVAL_ITIP = np.array([18])\n",
    "pred_ITIP = np.array([4])\n",
    "errors_ITIP = np.sqrt(np.sum((keypointsXYZ_test[::][:,EVAL_ITIP,:] - results1[::][:,pred_ITIP,:]) ** 2, axis=2))\n",
    "print(np.mean(errors_ITIP))"
   ]
  },
  {
   "cell_type": "code",
   "execution_count": 19,
   "id": "c99c1da5",
   "metadata": {},
   "outputs": [
    {
     "name": "stdout",
     "output_type": "stream",
     "text": [
      "45.23320231846309\n"
     ]
    }
   ],
   "source": [
    "#TTIP\n",
    "EVAL_TTIP = np.array([24])\n",
    "pred_TTIP = np.array([20])\n",
    "errors_TTIP = np.sqrt(np.sum((keypointsXYZ_test[::][:,EVAL_TTIP,:] - results1[::][:,pred_TTIP,:]) ** 2, axis=2))\n",
    "print(np.mean(errors_TTIP))\n",
    "\n"
   ]
  },
  {
   "cell_type": "markdown",
   "id": "5cdff390",
   "metadata": {},
   "source": [
    "# Distal"
   ]
  },
  {
   "cell_type": "code",
   "execution_count": 20,
   "id": "70ce4d28",
   "metadata": {},
   "outputs": [
    {
     "name": "stdout",
     "output_type": "stream",
     "text": [
      "51.43797019505421\n"
     ]
    }
   ],
   "source": [
    "#PDIP\n",
    "EVAL_PDIP = np.array([1])\n",
    "pred_PDIP = np.array([15])\n",
    "errors_PDIP = np.sqrt(np.sum((keypointsXYZ_test[::][:,EVAL_PDIP,:] - results1[::][:,pred_PDIP,:]) ** 2, axis=2))\n",
    "print(np.mean(errors_PDIP))"
   ]
  },
  {
   "cell_type": "code",
   "execution_count": 21,
   "id": "00b523d4",
   "metadata": {},
   "outputs": [
    {
     "name": "stdout",
     "output_type": "stream",
     "text": [
      "46.29047363507821\n"
     ]
    }
   ],
   "source": [
    "#RDIP\n",
    "EVAL_RDIP = np.array([7])\n",
    "pred_RDIP = np.array([11])\n",
    "errors_RDIP = np.sqrt(np.sum((keypointsXYZ_test[::][:,EVAL_RDIP,:] - results1[::][:,pred_RDIP,:]) ** 2, axis=2))\n",
    "print(np.mean(errors_RDIP))"
   ]
  },
  {
   "cell_type": "code",
   "execution_count": 22,
   "id": "f2179226",
   "metadata": {},
   "outputs": [
    {
     "name": "stdout",
     "output_type": "stream",
     "text": [
      "45.21898694861297\n"
     ]
    }
   ],
   "source": [
    "#MDIP\n",
    "EVAL_MDIP = np.array([13])\n",
    "pred_MDIP = np.array([7])\n",
    "errors_MDIP = np.sqrt(np.sum((keypointsXYZ_test[::][:,EVAL_MDIP,:] - results1[::][:,pred_MDIP,:]) ** 2, axis=2))\n",
    "print(np.mean(errors_MDIP))"
   ]
  },
  {
   "cell_type": "code",
   "execution_count": 23,
   "id": "2d667e5f",
   "metadata": {},
   "outputs": [
    {
     "name": "stdout",
     "output_type": "stream",
     "text": [
      "49.29660693763207\n"
     ]
    }
   ],
   "source": [
    "#IDIP\n",
    "EVAL_IDIP = np.array([19])\n",
    "pred_IDIP = np.array([3])\n",
    "errors_IDIP = np.sqrt(np.sum((keypointsXYZ_test[::][:,EVAL_IDIP,:] - results1[::][:,pred_IDIP,:]) ** 2, axis=2))\n",
    "print(np.mean(errors_IDIP))"
   ]
  },
  {
   "cell_type": "code",
   "execution_count": 24,
   "id": "9cc83ae3",
   "metadata": {},
   "outputs": [
    {
     "name": "stdout",
     "output_type": "stream",
     "text": [
      "39.45154227824583\n"
     ]
    }
   ],
   "source": [
    "#TDIP\n",
    "EVAL_TDIP = np.array([25])\n",
    "pred_TDIP = np.array([19])\n",
    "errors_TDIP = np.sqrt(np.sum((keypointsXYZ_test[::][:,EVAL_TDIP,:] - results1[::][:,pred_TDIP,:]) ** 2, axis=2))\n",
    "print(np.mean(errors_TDIP))"
   ]
  },
  {
   "cell_type": "markdown",
   "id": "5a838dd1",
   "metadata": {},
   "source": [
    "# Proximal"
   ]
  },
  {
   "cell_type": "code",
   "execution_count": 26,
   "id": "3e546f02",
   "metadata": {},
   "outputs": [
    {
     "name": "stdout",
     "output_type": "stream",
     "text": [
      "37.54452695993628\n"
     ]
    }
   ],
   "source": [
    "#PPIP\n",
    "EVAL_PPIP = np.array([4])\n",
    "pred_PPIP = np.array([14])\n",
    "errors_PPIP = np.sqrt(np.sum((keypointsXYZ_test[::][:,EVAL_PPIP,:] - results1[::][:,pred_PPIP,:]) ** 2, axis=2))\n",
    "print(np.mean(errors_PPIP))"
   ]
  },
  {
   "cell_type": "code",
   "execution_count": 27,
   "id": "7cb3456c",
   "metadata": {},
   "outputs": [
    {
     "name": "stdout",
     "output_type": "stream",
     "text": [
      "43.173823032573594\n"
     ]
    }
   ],
   "source": [
    "#RPIP\n",
    "EVAL_RPIP = np.array([11])\n",
    "pred_RPIP = np.array([10])\n",
    "errors_RPIP = np.sqrt(np.sum((keypointsXYZ_test[::][:,EVAL_RPIP,:] - results1[::][:,pred_RPIP,:]) ** 2, axis=2))\n",
    "print(np.mean(errors_RPIP))"
   ]
  },
  {
   "cell_type": "code",
   "execution_count": 28,
   "id": "8b572c07",
   "metadata": {},
   "outputs": [
    {
     "name": "stdout",
     "output_type": "stream",
     "text": [
      "37.34690955432477\n"
     ]
    }
   ],
   "source": [
    "#MPIP\n",
    "EVAL_MPIP = np.array([15])\n",
    "pred_MPIP = np.array([6])\n",
    "errors_MPIP = np.sqrt(np.sum((keypointsXYZ_test[::][:,EVAL_MPIP,:] - results1[::][:,pred_MPIP,:]) ** 2, axis=2))\n",
    "print(np.mean(errors_MPIP))"
   ]
  },
  {
   "cell_type": "code",
   "execution_count": 29,
   "id": "84a97acc",
   "metadata": {},
   "outputs": [
    {
     "name": "stdout",
     "output_type": "stream",
     "text": [
      "39.14419910803019\n"
     ]
    }
   ],
   "source": [
    "#IPIP\n",
    "EVAL_IPIP = np.array([21])\n",
    "pred_IPIP = np.array([2])\n",
    "errors_IPIP = np.sqrt(np.sum((keypointsXYZ_test[::][:,EVAL_IPIP,:] - results1[::][:,pred_IPIP,:]) ** 2, axis=2))\n",
    "print(np.mean(errors_IPIP))"
   ]
  },
  {
   "cell_type": "code",
   "execution_count": 30,
   "id": "a4578c98",
   "metadata": {},
   "outputs": [
    {
     "name": "stdout",
     "output_type": "stream",
     "text": [
      "38.80598156421089\n"
     ]
    }
   ],
   "source": [
    "#TPIP\n",
    "EVAL_TPIP = np.array([26])\n",
    "pred_TPIP = np.array([18])\n",
    "errors_TPIP = np.sqrt(np.sum((keypointsXYZ_test[::][:,EVAL_TPIP,:] - results1[::][:,pred_TPIP,:]) ** 2, axis=2))\n",
    "print(np.mean(errors_TPIP))\n"
   ]
  },
  {
   "cell_type": "markdown",
   "id": "a557dc97",
   "metadata": {},
   "source": [
    "# Metacarpal"
   ]
  },
  {
   "cell_type": "code",
   "execution_count": 31,
   "id": "b4d28739",
   "metadata": {},
   "outputs": [
    {
     "name": "stdout",
     "output_type": "stream",
     "text": [
      "36.008659036247174\n"
     ]
    }
   ],
   "source": [
    "#PMCP\n",
    "EVAL_PMCP = np.array([5])\n",
    "pred_PMCP = np.array([13])\n",
    "errors_PMCP = np.sqrt(np.sum((keypointsXYZ_test[::][:,EVAL_PMCP,:] - results1[::][:,pred_PMCP,:]) ** 2, axis=2))\n",
    "print(np.mean(errors_PMCP))"
   ]
  },
  {
   "cell_type": "code",
   "execution_count": 32,
   "id": "b1013d6c",
   "metadata": {},
   "outputs": [
    {
     "name": "stdout",
     "output_type": "stream",
     "text": [
      "33.39336163045178\n"
     ]
    }
   ],
   "source": [
    "#RMCP\n",
    "EVAL_RMCP = np.array([11])\n",
    "pred_RMCP = np.array([9])\n",
    "errors_RMCP = np.sqrt(np.sum((keypointsXYZ_test[::][:,EVAL_RMCP,:] - results1[::][:,pred_RMCP,:]) ** 2, axis=2))\n",
    "print(np.mean(errors_RMCP))"
   ]
  },
  {
   "cell_type": "code",
   "execution_count": 33,
   "id": "5369deb9",
   "metadata": {},
   "outputs": [
    {
     "name": "stdout",
     "output_type": "stream",
     "text": [
      "29.107536567606257\n"
     ]
    }
   ],
   "source": [
    "#MMCP\n",
    "EVAL_MMCP = np.array([17])\n",
    "pred_MMCP = np.array([5])\n",
    "errors_MMCP = np.sqrt(np.sum((keypointsXYZ_test[::][:,EVAL_MMCP,:] - results1[::][:,pred_MMCP,:]) ** 2, axis=2))\n",
    "print(np.mean(errors_MMCP))"
   ]
  },
  {
   "cell_type": "code",
   "execution_count": 34,
   "id": "c9e6032b",
   "metadata": {},
   "outputs": [
    {
     "name": "stdout",
     "output_type": "stream",
     "text": [
      "30.20840949949517\n"
     ]
    }
   ],
   "source": [
    "#IMCP\n",
    "EVAL_IMCP = np.array([23])\n",
    "pred_IMCP = np.array([1])\n",
    "errors_IMCP = np.sqrt(np.sum((keypointsXYZ_test[::][:,EVAL_IMCP,:] - results1[::][:,pred_IMCP,:]) ** 2, axis=2))\n",
    "print(np.mean(errors_IMCP))"
   ]
  },
  {
   "cell_type": "code",
   "execution_count": 35,
   "id": "149bd773",
   "metadata": {},
   "outputs": [
    {
     "name": "stdout",
     "output_type": "stream",
     "text": [
      "35.4294109493344\n"
     ]
    }
   ],
   "source": [
    "#TMCP\n",
    "EVAL_TMCP = np.array([28])\n",
    "pred_TMCP = np.array([17])\n",
    "errors_TMCP = np.sqrt(np.sum((keypointsXYZ_test[::][:,EVAL_TMCP,:] - results1[::][:,pred_TMCP,:]) ** 2, axis=2))\n",
    "print(np.mean(errors_TMCP))"
   ]
  },
  {
   "cell_type": "markdown",
   "id": "05416eaa",
   "metadata": {},
   "source": [
    "# Wrist"
   ]
  },
  {
   "cell_type": "code",
   "execution_count": 37,
   "id": "eee8a50f",
   "metadata": {},
   "outputs": [
    {
     "name": "stdout",
     "output_type": "stream",
     "text": [
      "40.71398110325096\n"
     ]
    }
   ],
   "source": [
    "#WRIST\n",
    "EVAL_WRIST = np.array([29])\n",
    "pred_WRIST = np.array([0])\n",
    "errors_wrist = np.sqrt(np.sum((keypointsXYZ_test[::][:,EVAL_WRIST,:] - results1[::][:,pred_WRIST,:]) ** 2, axis=2))\n",
    "print(np.mean(errors_wrist))"
   ]
  },
  {
   "cell_type": "code",
   "execution_count": 38,
   "id": "87f2b4ee",
   "metadata": {},
   "outputs": [
    {
     "data": {
      "text/plain": [
       "42.44286691049692"
      ]
     },
     "execution_count": 38,
     "metadata": {},
     "output_type": "execute_result"
    }
   ],
   "source": [
    "mean_error = np.mean([errors_PTIP,\n",
    "errors_RTIP,\n",
    "errors_MTIP,\n",
    "errors_ITIP,\n",
    "errors_TTIP,\n",
    "\n",
    "errors_PDIP,\n",
    "errors_RDIP,\n",
    "errors_MDIP,\n",
    "errors_IDIP,\n",
    "errors_TDIP,\n",
    "\n",
    "errors_PPIP,\n",
    "errors_RPIP,\n",
    "errors_MPIP,\n",
    "errors_IPIP,\n",
    "errors_TPIP,\n",
    "\n",
    "errors_PMCP,\n",
    "errors_RMCP,\n",
    "errors_MMCP,\n",
    "errors_IMCP,\n",
    "errors_TMCP,\n",
    "\n",
    "errors_wrist])\n",
    "mean_error"
   ]
  },
  {
   "cell_type": "markdown",
   "id": "e4fc073d",
   "metadata": {},
   "source": [
    "# mean_error ~= 42 mm"
   ]
  },
  {
   "cell_type": "code",
   "execution_count": null,
   "id": "24b0a32d",
   "metadata": {},
   "outputs": [],
   "source": []
  }
 ],
 "metadata": {
  "kernelspec": {
   "display_name": "Python 3",
   "language": "python",
   "name": "python3"
  },
  "language_info": {
   "codemirror_mode": {
    "name": "ipython",
    "version": 3
   },
   "file_extension": ".py",
   "mimetype": "text/x-python",
   "name": "python",
   "nbconvert_exporter": "python",
   "pygments_lexer": "ipython3",
   "version": "3.8.8"
  }
 },
 "nbformat": 4,
 "nbformat_minor": 5
}
